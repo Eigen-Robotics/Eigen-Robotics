{
 "cells": [
  {
   "cell_type": "markdown",
   "id": "ced5fc05",
   "metadata": {},
   "source": [
    "#### Note:\n",
    "\n",
    "Make sure that you have these two scripts running at the same time while running this\n",
    "\n",
    "ark regsitry start\n",
    "\n",
    "python sim_node.py"
   ]
  },
  {
   "cell_type": "code",
   "execution_count": 15,
   "id": "ad5f4a86",
   "metadata": {},
   "outputs": [
    {
     "name": "stderr",
     "output_type": "stream",
     "text": [
      "\u001b[93m[WARNING] [17:22:55.028180] - No global configuration provided. Using default system configuration.\u001b[0m\n",
      "\u001b[96m[INFO] [17:22:55.042665] - Service: Successfully registered '__DEFAULT_SERVICE/GetInfo/FrankaJointController_26b1b3e7-869e-46a9-b8c5-04eaf734e531' with registry.\u001b[0m\n",
      "\u001b[96m[INFO] [17:22:55.050348] - Service: Successfully registered '__DEFAULT_SERVICE/SuspendNode/FrankaJointController_26b1b3e7-869e-46a9-b8c5-04eaf734e531' with registry.\u001b[0m\n",
      "\u001b[96m[INFO] [17:22:55.062513] - Service: Successfully registered '__DEFAULT_SERVICE/RestartNode/FrankaJointController_26b1b3e7-869e-46a9-b8c5-04eaf734e531' with registry.\u001b[0m\n",
      "\u001b[91m[ERROR] [17:22:55.065396] - Couldn't load config for other 'FrankaJointController'\u001b[0m\n",
      "\u001b[92m\u001b[1m[OK] [17:22:55.073005] - setup publisher SO100/joint_group_command/sim[joint_group_command_t]\u001b[0m\n",
      "\u001b[92m\u001b[1m[OK] [17:22:55.076377] - setup publisher SO100/cartesian_command/sim[task_space_command_t]\u001b[0m\n",
      "\u001b[92m\u001b[1m[OK] [17:22:55.077428] - setup publisher SO100/joint_group_command[joint_group_command_t]\u001b[0m\n",
      "\u001b[92m\u001b[1m[OK] [17:22:55.079212] - setup publisher SO100/cartesian_command[task_space_command_t]\u001b[0m\n",
      "\u001b[92m\u001b[1m[OK] [17:22:55.082169] - subscribed to SO100/joint_states/sim[joint_state_t]\u001b[0m\n"
     ]
    },
    {
     "name": "stdout",
     "output_type": "stream",
     "text": [
      "None\n"
     ]
    },
    {
     "name": "stdout",
     "output_type": "stream",
     "text": [
      "Get info service called\n",
      "Get info service called\n",
      "Get info service called\n",
      "Get info service called\n",
      "Get info service called\n",
      "Get info service called\n",
      "Get info service called\n",
      "Get info service called\n",
      "Get info service called\n"
     ]
    }
   ],
   "source": [
    "import numpy as np\n",
    "from arktypes import joint_group_command_t, task_space_command_t, joint_state_t\n",
    "from arktypes.utils import unpack, pack\n",
    "from ark.client.comm_infrastructure.instance_node import InstanceNode\n",
    "\n",
    "SIM = True\n",
    "\n",
    "class FrankaControllerNode(InstanceNode):\n",
    "\n",
    "    def __init__(self):\n",
    "        '''\n",
    "        Initialize the FrankaJointController.\n",
    "        This class is responsible for controlling the Franka robot's joints.\n",
    "        '''\n",
    "        super().__init__(\"FrankaJointController\")\n",
    "\n",
    "        if SIM == True:\n",
    "            self.joint_group_command_sim = self.create_publisher(\"SO100/joint_group_command/sim\", joint_group_command_t)\n",
    "            self.task_space_command_sim = self.create_publisher(\"SO100/cartesian_command/sim\", task_space_command_t)\n",
    "\n",
    "            self.joint_group_command = self.create_publisher(\"SO100/joint_group_command\", joint_group_command_t)\n",
    "            self.task_space_command = self.create_publisher(\"SO100/cartesian_command\", task_space_command_t)\n",
    "\n",
    "            self.state = self.create_listener(\"SO100/joint_states/sim\", joint_state_t)\n",
    "\n",
    "controller = FrankaControllerNode()"
   ]
  },
  {
   "cell_type": "markdown",
   "id": "7142c226",
   "metadata": {},
   "source": [
    "---"
   ]
  },
  {
   "cell_type": "markdown",
   "id": "e9f1afe2",
   "metadata": {},
   "source": [
    "# Joint Group Control"
   ]
  },
  {
   "cell_type": "code",
   "execution_count": 16,
   "id": "d86ec1f1",
   "metadata": {},
   "outputs": [],
   "source": [
    "joint_command = [1,0,-1,0,0,0]\n",
    "# Position Control\n",
    "controller.joint_group_command_sim.publish(pack.joint_group_command(joint_command, \"all\"))\n",
    "controller.joint_group_command.publish(pack.joint_group_command(joint_command, \"all\"))"
   ]
  },
  {
   "cell_type": "code",
   "execution_count": 14,
   "id": "65434399",
   "metadata": {},
   "outputs": [],
   "source": [
    "gripper_command = [-1] # -1 close, 1 open\n",
    "# Velocity Control \n",
    "controller.joint_group_command.publish(pack.joint_group_command(gripper_command, \"gripper\"))"
   ]
  },
  {
   "cell_type": "code",
   "execution_count": 10,
   "id": "df953d1a",
   "metadata": {},
   "outputs": [],
   "source": [
    "arm_command = [-0.3, 0.5, 0.3, -1.0, 0.1, 1.8, 0.1]\n",
    "# Position Control \n",
    "controller.joint_group_command.publish(pack.joint_group_command(arm_command, \"arm\"))"
   ]
  },
  {
   "cell_type": "markdown",
   "id": "7e0a44fc",
   "metadata": {},
   "source": [
    "---"
   ]
  },
  {
   "cell_type": "code",
   "execution_count": null,
   "id": "bc4b90f7",
   "metadata": {},
   "outputs": [],
   "source": []
  },
  {
   "cell_type": "markdown",
   "id": "dd5a9751",
   "metadata": {},
   "source": [
    "# Task Space Control"
   ]
  },
  {
   "cell_type": "code",
   "execution_count": 5,
   "id": "1187b61d",
   "metadata": {},
   "outputs": [],
   "source": [
    "xyz_command = np.array([0.3, 0.4, 0.8])\n",
    "quaternion_command = np.array([1, 0.0, 0.0, 0.0]) # xyz-w\n",
    "gripper = 1.0 # 0.0 close, 1.0 open\n",
    "\n",
    "controller.task_space_command.publish(\n",
    "    pack.task_space_command(\"all\", xyz_command, quaternion_command, gripper))"
   ]
  },
  {
   "cell_type": "markdown",
   "id": "c7feafb1",
   "metadata": {},
   "source": [
    "---\n"
   ]
  },
  {
   "cell_type": "markdown",
   "id": "aa0d1111",
   "metadata": {},
   "source": [
    "# Joint States"
   ]
  },
  {
   "cell_type": "code",
   "execution_count": 17,
   "id": "5dde03a7",
   "metadata": {},
   "outputs": [
    {
     "data": {
      "text/plain": [
       "({'seq': 0, 'stamp': {'sec': 0, 'nsec': 0}, 'frame_id': ''},\n",
       " ['shoulder_pan',\n",
       "  'shoulder_lift',\n",
       "  'elbow_flex',\n",
       "  'wrist_flex',\n",
       "  'wrist_roll',\n",
       "  'gripper'],\n",
       " array([ 9.99999464e-01, -2.94127203e-05, -9.97921526e-01,  1.00760942e-03,\n",
       "         2.78938774e-06, -4.97423607e-05]),\n",
       " array([0., 0., 0., 0., 0., 0.]),\n",
       " array([0., 0., 0., 0., 0., 0.]))"
      ]
     },
     "execution_count": 17,
     "metadata": {},
     "output_type": "execute_result"
    }
   ],
   "source": [
    "unpack.joint_state(controller.state.get())"
   ]
  }
 ],
 "metadata": {
  "kernelspec": {
   "display_name": "ark_env",
   "language": "python",
   "name": "python3"
  },
  "language_info": {
   "codemirror_mode": {
    "name": "ipython",
    "version": 3
   },
   "file_extension": ".py",
   "mimetype": "text/x-python",
   "name": "python",
   "nbconvert_exporter": "python",
   "pygments_lexer": "ipython3",
   "version": "3.11.13"
  }
 },
 "nbformat": 4,
 "nbformat_minor": 5
}
